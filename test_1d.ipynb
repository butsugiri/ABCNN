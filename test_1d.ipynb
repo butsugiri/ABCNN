{
 "cells": [
  {
   "cell_type": "code",
   "execution_count": 2,
   "metadata": {
    "ExecuteTime": {
     "end_time": "2016-12-28T16:42:01.164264",
     "start_time": "2016-12-28T16:42:01.157654"
    },
    "collapsed": true
   },
   "outputs": [],
   "source": [
    "%matplotlib inline\n",
    "import pandas as pd\n",
    "import matplotlib.pyplot as plt\n",
    "import numpy.random as rnd\n",
    "import numpy as np\n",
    "import matplotlib\n",
    "import seaborn as sns\n",
    "import numpy as np\n",
    "import chainer\n",
    "from chainer import cuda, gradient_check, Variable, optimizers, serializers, utils\n",
    "from chainer import Link, Chain, ChainList\n",
    "import chainer.functions as F\n",
    "import chainer.links as L"
   ]
  },
  {
   "cell_type": "code",
   "execution_count": 37,
   "metadata": {
    "ExecuteTime": {
     "end_time": "2016-12-28T16:52:54.994382",
     "start_time": "2016-12-28T16:52:54.992052"
    },
    "collapsed": false
   },
   "outputs": [],
   "source": [
    "mat = np.random.rand(3,1,10).astype(np.float32)"
   ]
  },
  {
   "cell_type": "code",
   "execution_count": 38,
   "metadata": {
    "ExecuteTime": {
     "end_time": "2016-12-28T16:52:55.733092",
     "start_time": "2016-12-28T16:52:55.728793"
    },
    "collapsed": false,
    "scrolled": true
   },
   "outputs": [
    {
     "name": "stdout",
     "output_type": "stream",
     "text": [
      "[[[ 0.00921386  0.44322664  0.75415885  0.21738829  0.10932823  0.14021793\n",
      "    0.6266396   0.41334552  0.03673505  0.04646421]]\n",
      "\n",
      " [[ 0.7187503   0.40843573  0.48249069  0.58323485  0.87861675  0.00582928\n",
      "    0.51504648  0.76487023  0.49281287  0.20417944]]\n",
      "\n",
      " [[ 0.03227345  0.45380929  0.31121567  0.83298594  0.88869101  0.80411649\n",
      "    0.24675059  0.36235693  0.44376516  0.23982403]]]\n"
     ]
    },
    {
     "data": {
      "text/plain": [
       "(3, 1, 10)"
      ]
     },
     "execution_count": 38,
     "metadata": {},
     "output_type": "execute_result"
    }
   ],
   "source": [
    "print(mat)\n",
    "mat.shape"
   ]
  },
  {
   "cell_type": "code",
   "execution_count": 41,
   "metadata": {
    "ExecuteTime": {
     "end_time": "2016-12-28T16:53:07.170999",
     "start_time": "2016-12-28T16:53:07.168398"
    },
    "collapsed": false
   },
   "outputs": [],
   "source": [
    "link = L.ConvolutionND(1, 1, 1, 3)"
   ]
  },
  {
   "cell_type": "code",
   "execution_count": 42,
   "metadata": {
    "ExecuteTime": {
     "end_time": "2016-12-28T16:53:07.648671",
     "start_time": "2016-12-28T16:53:07.643420"
    },
    "collapsed": false
   },
   "outputs": [
    {
     "name": "stdout",
     "output_type": "stream",
     "text": [
      "[[[ 0.0198516   0.28120482  1.03664732  0.31025928  0.30880451 -0.02217425\n",
      "    0.69855511  0.61380082]]\n",
      "\n",
      " [[ 1.00394607  0.53077143  0.68880135  0.33652523  1.50258374 -0.02535549\n",
      "    0.4837935   0.91860271]]\n",
      "\n",
      " [[-0.1154528   0.79598737  0.28262571  0.99888241  0.92869776  1.18677688\n",
      "    0.31086767  0.35886833]]]\n"
     ]
    },
    {
     "data": {
      "text/plain": [
       "(3, 1, 8)"
      ]
     },
     "execution_count": 42,
     "metadata": {},
     "output_type": "execute_result"
    }
   ],
   "source": [
    "print(link(mat).data)\n",
    "link(mat).shape\n"
   ]
  },
  {
   "cell_type": "code",
   "execution_count": null,
   "metadata": {
    "collapsed": true
   },
   "outputs": [],
   "source": []
  }
 ],
 "metadata": {
  "anaconda-cloud": {},
  "kernelspec": {
   "display_name": "Python [conda env:py3]",
   "language": "python",
   "name": "conda-env-py3-py"
  },
  "language_info": {
   "codemirror_mode": {
    "name": "ipython",
    "version": 3
   },
   "file_extension": ".py",
   "mimetype": "text/x-python",
   "name": "python",
   "nbconvert_exporter": "python",
   "pygments_lexer": "ipython3",
   "version": "3.5.2"
  }
 },
 "nbformat": 4,
 "nbformat_minor": 1
}
