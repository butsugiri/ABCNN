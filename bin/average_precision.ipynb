{
 "cells": [
  {
   "cell_type": "code",
   "execution_count": 314,
   "metadata": {
    "ExecuteTime": {
     "end_time": "2017-01-24T17:21:04.651613",
     "start_time": "2017-01-24T17:21:04.642826"
    },
    "collapsed": true
   },
   "outputs": [],
   "source": [
    "import sys\n",
    "from sklearn.linear_model import LogisticRegression\n",
    "from sklearn.metrics import accuracy_score, average_precision_score\n",
    "from sklearn.preprocessing import label_binarize\n",
    "%matplotlib inline\n",
    "import pandas as pd\n",
    "import random\n",
    "import matplotlib.pyplot as plt\n",
    "import numpy.random as rnd\n",
    "import numpy as np\n",
    "import matplotlib\n",
    "import seaborn as sns\n",
    "from itertools import groupby"
   ]
  },
  {
   "cell_type": "code",
   "execution_count": 315,
   "metadata": {
    "ExecuteTime": {
     "end_time": "2017-01-24T17:21:04.848709",
     "start_time": "2017-01-24T17:21:04.844150"
    },
    "collapsed": true
   },
   "outputs": [],
   "source": [
    "def average_precision(y_true, y_score):\n",
    "    correct_label = 0\n",
    "    ap = 0\n",
    "    for n, (true, score) in enumerate(zip(y_true, y_score), start=1):\n",
    "        if true == 1:\n",
    "            correct_label += 1\n",
    "            ap += (correct_label * 1.0 / n)\n",
    "    return ap / correct_label"
   ]
  },
  {
   "cell_type": "code",
   "execution_count": 354,
   "metadata": {
    "ExecuteTime": {
     "end_time": "2017-01-24T17:33:10.270375",
     "start_time": "2017-01-24T17:33:10.266890"
    },
    "collapsed": false,
    "scrolled": true
   },
   "outputs": [
    {
     "name": "stdout",
     "output_type": "stream",
     "text": [
      "[[  1.           9.12961712]\n",
      " [  2.          15.60834245]\n",
      " [  2.          18.25923423]\n",
      " [  2.          16.81887265]\n",
      " [  0.           0.        ]\n",
      " [  2.          16.81887265]\n",
      " [  1.           7.97693761]\n",
      " [  2.          16.81887265]]\n",
      "[0 1 0 0 0 0 0 0]\n"
     ]
    }
   ],
   "source": [
    "print(train_X[2:10])\n",
    "print(train_y[2:10])"
   ]
  },
  {
   "cell_type": "markdown",
   "metadata": {},
   "source": [
    "# そのまま"
   ]
  },
  {
   "cell_type": "markdown",
   "metadata": {},
   "source": [
    "# 訓練"
   ]
  },
  {
   "cell_type": "code",
   "execution_count": 337,
   "metadata": {
    "ExecuteTime": {
     "end_time": "2017-01-24T17:22:15.199585",
     "start_time": "2017-01-24T17:22:15.112918"
    },
    "collapsed": false
   },
   "outputs": [
    {
     "data": {
      "text/plain": [
       "LogisticRegression(C=1.0, class_weight=None, dual=False, fit_intercept=True,\n",
       "          intercept_scaling=1, max_iter=100, multi_class='ovr', n_jobs=1,\n",
       "          penalty='l2', random_state=None, solver='liblinear', tol=0.0001,\n",
       "          verbose=0, warm_start=False)"
      ]
     },
     "execution_count": 337,
     "metadata": {},
     "output_type": "execute_result"
    }
   ],
   "source": [
    "train_y = np.array([int(x.split(\"\\t\")[1]) for x in open(\"../data/WikiQACorpus/train.features\")])\n",
    "train_X = np.array([[float(x.split(\"\\t\")[2]), float(x.split(\"\\t\")[3])] for x in open(\"../data/WikiQACorpus/train.features\") ])\n",
    "\n",
    "model = LogisticRegression()\n",
    "model.fit(X=train_X[:,1].reshape(-1, 1), y=train_y)"
   ]
  },
  {
   "cell_type": "markdown",
   "metadata": {},
   "source": [
    "# 評価"
   ]
  },
  {
   "cell_type": "code",
   "execution_count": 349,
   "metadata": {
    "ExecuteTime": {
     "end_time": "2017-01-24T17:22:31.018800",
     "start_time": "2017-01-24T17:22:30.961112"
    },
    "collapsed": false
   },
   "outputs": [
    {
     "name": "stdout",
     "output_type": "stream",
     "text": [
      "0.512826212538\n"
     ]
    }
   ],
   "source": [
    "# devデータのロード\n",
    "lis = []\n",
    "with open(\"../data/WikiQACorpus/test.features\", \"r\") as fi:\n",
    "    for q_id, section in groupby(fi, key=lambda x: x.split(\"\\t\")[0]):\n",
    "        section = list(section)\n",
    "        random.shuffle(section)\n",
    "        test_y = np.array([x.strip().split(\"\\t\")[1] for x in section], dtype=np.int32)\n",
    "        test_X = np.array([x.strip().split(\"\\t\")[3] for x in section], dtype=np.float32).reshape(-1, 1)\n",
    "        pred = model.predict_proba(X=test_X)[:,1]\n",
    "        x = np.c_[test_y, pred]\n",
    "        order = x[:,1].argsort()[::-1]\n",
    "        true_labels = x[order][:,0]\n",
    "        scores = x[order][:,1]\n",
    "        lis.append(average_precision(y_score=scores, y_true=true_labels))\n",
    "        \n",
    "        #lis.append(average_precision_score(y_score=pred[:,1], y_true=test_y))\n",
    "print(np.mean(lis))"
   ]
  },
  {
   "cell_type": "markdown",
   "metadata": {},
   "source": [
    "# 松林さん手法"
   ]
  },
  {
   "cell_type": "code",
   "execution_count": 318,
   "metadata": {
    "ExecuteTime": {
     "end_time": "2017-01-24T17:21:11.165208",
     "start_time": "2017-01-24T17:21:11.066843"
    },
    "collapsed": false
   },
   "outputs": [
    {
     "data": {
      "text/plain": [
       "LogisticRegression(C=1.0, class_weight=None, dual=False, fit_intercept=True,\n",
       "          intercept_scaling=1, max_iter=100, multi_class='ovr', n_jobs=1,\n",
       "          penalty='l2', random_state=None, solver='liblinear', tol=0.0001,\n",
       "          verbose=0, warm_start=False)"
      ]
     },
     "execution_count": 318,
     "metadata": {},
     "output_type": "execute_result"
    }
   ],
   "source": [
    "train_y = np.array([int(x.split(\"\\t\")[1]) for x in open(\"../data/WikiQACorpus/train.features\")], dtype=np.int32)\n",
    "train_X = np.array([[float(x.split(\"\\t\")[2]), float(x.split(\"\\t\")[3])] for x in open(\"../data/WikiQACorpus/train.features\") ], dtype=np.float32)\n",
    "\n",
    "model = LogisticRegression()\n",
    "# binarize\n",
    "train_X = label_binarize(train_X[:,0], classes=list(range(50)))\n",
    "model.fit(X=train_X, y=train_y)"
   ]
  },
  {
   "cell_type": "code",
   "execution_count": 328,
   "metadata": {
    "ExecuteTime": {
     "end_time": "2017-01-24T17:21:23.816312",
     "start_time": "2017-01-24T17:21:23.674346"
    },
    "collapsed": false
   },
   "outputs": [],
   "source": [
    "# devデータのロード\n",
    "lis = []\n",
    "with open(\"../data/WikiQACorpus/test.features\", \"r\") as fi:\n",
    "    for q_id, section in groupby(fi, key=lambda x: x.split(\"\\t\")[0]):\n",
    "        section = list(section)\n",
    "        random.shuffle(section)\n",
    "        \n",
    "        test_y = np.array([x.strip().split(\"\\t\")[1] for x in section], dtype=np.int32)\n",
    "        test_X = np.array([x.strip().split(\"\\t\")[2] for x in section], dtype=np.float32)\n",
    "        test_X = label_binarize(test_X, classes=list(range(50)))\n",
    "        \n",
    "        \n",
    "        #print(sorted(list(zip(model.predict_proba(X=test_X)[:,1], test_y)), key=lambda x:x[0], reverse=True))\n",
    "        pred = model.predict_proba(X=test_X)[:,1]\n",
    "        x = np.c_[test_y, pred]\n",
    "        order = x[:,1].argsort()[::-1]\n",
    "        true_labels = x[order][:,0]\n",
    "        scores = x[order][:,1]\n",
    "        lis.append(average_precision(y_score=scores, y_true=true_labels))"
   ]
  },
  {
   "cell_type": "code",
   "execution_count": 329,
   "metadata": {
    "ExecuteTime": {
     "end_time": "2017-01-24T17:21:23.820621",
     "start_time": "2017-01-24T17:21:23.817512"
    },
    "collapsed": false
   },
   "outputs": [
    {
     "data": {
      "text/plain": [
       "0.55537600781489516"
      ]
     },
     "execution_count": 329,
     "metadata": {},
     "output_type": "execute_result"
    }
   ],
   "source": [
    "np.mean(lis)"
   ]
  },
  {
   "cell_type": "code",
   "execution_count": 395,
   "metadata": {
    "ExecuteTime": {
     "end_time": "2017-01-24T17:50:43.514623",
     "start_time": "2017-01-24T17:50:40.800393"
    },
    "collapsed": false
   },
   "outputs": [
    {
     "data": {
      "text/plain": [
       "<matplotlib.text.Text at 0x1274a72b0>"
      ]
     },
     "execution_count": 395,
     "metadata": {},
     "output_type": "execute_result"
    },
    {
     "data": {
      "image/png": "[encoded data removed]",
      "text/plain": [
       "<matplotlib.figure.Figure at 0x11eb8edd8>"
      ]
     },
     "metadata": {
      "image/png": {
       "height": 298,
       "width": 430
      }
     },
     "output_type": "display_data"
    }
   ],
   "source": [
    "X = train_X[:,0]\n",
    "y = train_y\n",
    "df = pd.concat([pd.DataFrame(X), pd.DataFrame(y)], axis=1)\n",
    "df.columns = [\"X\", \"Y\"]\n",
    "counts = df[\"X\"].value_counts()\n",
    "df[\"count\"] = df[\"X\"].map(counts)\n",
    "df.plot(kind='scatter', x='X', y='Y', s=df[\"count\"] * 0.1)\n",
    "plt.xlabel(\"Word Count\")\n",
    "plt.ylabel(\"True or False Anwer (0 is False Answer)\")"
   ]
  },
  {
   "cell_type": "code",
   "execution_count": null,
   "metadata": {
    "collapsed": true
   },
   "outputs": [],
   "source": []
  }
 ],
 "metadata": {
  "anaconda-cloud": {},
  "kernelspec": {
   "display_name": "Python [conda env:py3]",
   "language": "python",
   "name": "conda-env-py3-py"
  },
  "language_info": {
   "codemirror_mode": {
    "name": "ipython",
    "version": 3
   },
   "file_extension": ".py",
   "mimetype": "text/x-python",
   "name": "python",
   "nbconvert_exporter": "python",
   "pygments_lexer": "ipython3",
   "version": "3.5.2"
  }
 },
 "nbformat": 4,
 "nbformat_minor": 1
}
